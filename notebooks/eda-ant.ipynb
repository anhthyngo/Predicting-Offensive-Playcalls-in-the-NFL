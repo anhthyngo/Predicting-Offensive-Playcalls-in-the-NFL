{
 "cells": [
  {
   "cell_type": "code",
   "execution_count": 1,
   "metadata": {},
   "outputs": [],
   "source": [
    "import os\n",
    "import pandas as pd\n",
    "import numpy as np\n",
    "import matplotlib.pyplot as plt\n",
    "% matplotlib inline\n",
    "import seaborn as sns\n",
    "sns.set(style=\"darkgrid\")"
   ]
  },
  {
   "cell_type": "code",
   "execution_count": 2,
   "metadata": {},
   "outputs": [],
   "source": [
    "os.chdir(\"/Users/anhthyngo/ds-projects/nfl-predict/\")\n",
    "cwd = os.getcwd()\n",
    "datadir = '/'.join(cwd.split('/')) + '/data/'\n",
    "csv = datadir + 'pbp-2019.csv'"
   ]
  },
  {
   "cell_type": "code",
   "execution_count": 3,
   "metadata": {},
   "outputs": [
    {
     "data": {
      "text/html": [
       "<div>\n",
       "<style scoped>\n",
       "    .dataframe tbody tr th:only-of-type {\n",
       "        vertical-align: middle;\n",
       "    }\n",
       "\n",
       "    .dataframe tbody tr th {\n",
       "        vertical-align: top;\n",
       "    }\n",
       "\n",
       "    .dataframe thead th {\n",
       "        text-align: right;\n",
       "    }\n",
       "</style>\n",
       "<table border=\"1\" class=\"dataframe\">\n",
       "  <thead>\n",
       "    <tr style=\"text-align: right;\">\n",
       "      <th></th>\n",
       "      <th>GameId</th>\n",
       "      <th>GameDate</th>\n",
       "      <th>Quarter</th>\n",
       "      <th>Minute</th>\n",
       "      <th>Second</th>\n",
       "      <th>OffenseTeam</th>\n",
       "      <th>DefenseTeam</th>\n",
       "      <th>Down</th>\n",
       "      <th>ToGo</th>\n",
       "      <th>YardLine</th>\n",
       "      <th>Unnamed: 10</th>\n",
       "      <th>SeriesFirstDown</th>\n",
       "      <th>Unnamed: 12</th>\n",
       "      <th>NextScore</th>\n",
       "      <th>Description</th>\n",
       "      <th>TeamWin</th>\n",
       "      <th>Unnamed: 16</th>\n",
       "      <th>Unnamed: 17</th>\n",
       "      <th>SeasonYear</th>\n",
       "      <th>Yards</th>\n",
       "      <th>Formation</th>\n",
       "      <th>PlayType</th>\n",
       "      <th>IsRush</th>\n",
       "      <th>IsPass</th>\n",
       "      <th>IsIncomplete</th>\n",
       "      <th>IsTouchdown</th>\n",
       "      <th>PassType</th>\n",
       "      <th>IsSack</th>\n",
       "      <th>IsChallenge</th>\n",
       "      <th>IsChallengeReversed</th>\n",
       "      <th>Challenger</th>\n",
       "      <th>IsMeasurement</th>\n",
       "      <th>IsInterception</th>\n",
       "      <th>IsFumble</th>\n",
       "      <th>IsPenalty</th>\n",
       "      <th>IsTwoPointConversion</th>\n",
       "      <th>IsTwoPointConversionSuccessful</th>\n",
       "      <th>RushDirection</th>\n",
       "      <th>YardLineFixed</th>\n",
       "      <th>YardLineDirection</th>\n",
       "      <th>IsPenaltyAccepted</th>\n",
       "      <th>PenaltyTeam</th>\n",
       "      <th>IsNoPlay</th>\n",
       "      <th>PenaltyType</th>\n",
       "      <th>PenaltyYards</th>\n",
       "    </tr>\n",
       "  </thead>\n",
       "  <tbody>\n",
       "    <tr>\n",
       "      <th>0</th>\n",
       "      <td>2019121200</td>\n",
       "      <td>2019-12-12</td>\n",
       "      <td>3</td>\n",
       "      <td>0</td>\n",
       "      <td>58</td>\n",
       "      <td>BAL</td>\n",
       "      <td>NYJ</td>\n",
       "      <td>0</td>\n",
       "      <td>0</td>\n",
       "      <td>85</td>\n",
       "      <td>NaN</td>\n",
       "      <td>1</td>\n",
       "      <td>NaN</td>\n",
       "      <td>0</td>\n",
       "      <td>9-J.TUCKER EXTRA POINT IS GOOD, CENTER-46-M.COX, HOLDER-4-S.KOCH.</td>\n",
       "      <td>0</td>\n",
       "      <td>NaN</td>\n",
       "      <td>NaN</td>\n",
       "      <td>2019</td>\n",
       "      <td>0</td>\n",
       "      <td>UNDER CENTER</td>\n",
       "      <td>EXTRA POINT</td>\n",
       "      <td>0</td>\n",
       "      <td>0</td>\n",
       "      <td>0</td>\n",
       "      <td>0</td>\n",
       "      <td>NaN</td>\n",
       "      <td>0</td>\n",
       "      <td>0</td>\n",
       "      <td>0</td>\n",
       "      <td>NaN</td>\n",
       "      <td>0</td>\n",
       "      <td>0</td>\n",
       "      <td>0</td>\n",
       "      <td>0</td>\n",
       "      <td>0</td>\n",
       "      <td>0</td>\n",
       "      <td>NaN</td>\n",
       "      <td>15</td>\n",
       "      <td>OPP</td>\n",
       "      <td>0</td>\n",
       "      <td>NaN</td>\n",
       "      <td>0</td>\n",
       "      <td>NaN</td>\n",
       "      <td>0</td>\n",
       "    </tr>\n",
       "    <tr>\n",
       "      <th>1</th>\n",
       "      <td>2019121200</td>\n",
       "      <td>2019-12-12</td>\n",
       "      <td>3</td>\n",
       "      <td>1</td>\n",
       "      <td>4</td>\n",
       "      <td>BAL</td>\n",
       "      <td>NYJ</td>\n",
       "      <td>2</td>\n",
       "      <td>20</td>\n",
       "      <td>67</td>\n",
       "      <td>NaN</td>\n",
       "      <td>1</td>\n",
       "      <td>NaN</td>\n",
       "      <td>0</td>\n",
       "      <td>(1:04) (SHOTGUN) 8-L.JACKSON PASS DEEP LEFT TO 11-S.ROBERTS FOR 33 YARDS, TOUCHDOWN. LAMAR JACKSON'S 4TH TD PASS OF GAME AND 32ND OF SEASON.</td>\n",
       "      <td>0</td>\n",
       "      <td>NaN</td>\n",
       "      <td>NaN</td>\n",
       "      <td>2019</td>\n",
       "      <td>33</td>\n",
       "      <td>SHOTGUN</td>\n",
       "      <td>PASS</td>\n",
       "      <td>0</td>\n",
       "      <td>1</td>\n",
       "      <td>0</td>\n",
       "      <td>1</td>\n",
       "      <td>DEEP LEFT</td>\n",
       "      <td>0</td>\n",
       "      <td>0</td>\n",
       "      <td>0</td>\n",
       "      <td>NaN</td>\n",
       "      <td>0</td>\n",
       "      <td>0</td>\n",
       "      <td>0</td>\n",
       "      <td>0</td>\n",
       "      <td>0</td>\n",
       "      <td>0</td>\n",
       "      <td>NaN</td>\n",
       "      <td>33</td>\n",
       "      <td>OPP</td>\n",
       "      <td>0</td>\n",
       "      <td>NaN</td>\n",
       "      <td>0</td>\n",
       "      <td>NaN</td>\n",
       "      <td>0</td>\n",
       "    </tr>\n",
       "  </tbody>\n",
       "</table>\n",
       "</div>"
      ],
      "text/plain": [
       "       GameId    GameDate  Quarter  Minute  Second OffenseTeam DefenseTeam  \\\n",
       "0  2019121200  2019-12-12  3        0       58      BAL         NYJ          \n",
       "1  2019121200  2019-12-12  3        1       4       BAL         NYJ          \n",
       "\n",
       "   Down  ToGo  YardLine  Unnamed: 10  SeriesFirstDown  Unnamed: 12  NextScore  \\\n",
       "0  0     0     85       NaN           1               NaN           0           \n",
       "1  2     20    67       NaN           1               NaN           0           \n",
       "\n",
       "                                                                                                                                    Description  \\\n",
       "0  9-J.TUCKER EXTRA POINT IS GOOD, CENTER-46-M.COX, HOLDER-4-S.KOCH.                                                                              \n",
       "1  (1:04) (SHOTGUN) 8-L.JACKSON PASS DEEP LEFT TO 11-S.ROBERTS FOR 33 YARDS, TOUCHDOWN. LAMAR JACKSON'S 4TH TD PASS OF GAME AND 32ND OF SEASON.   \n",
       "\n",
       "   TeamWin  Unnamed: 16  Unnamed: 17  SeasonYear  Yards     Formation  \\\n",
       "0  0       NaN          NaN           2019        0      UNDER CENTER   \n",
       "1  0       NaN          NaN           2019        33     SHOTGUN        \n",
       "\n",
       "      PlayType  IsRush  IsPass  IsIncomplete  IsTouchdown   PassType  IsSack  \\\n",
       "0  EXTRA POINT  0       0       0             0            NaN        0        \n",
       "1  PASS         0       1       0             1            DEEP LEFT  0        \n",
       "\n",
       "   IsChallenge  IsChallengeReversed  Challenger  IsMeasurement  \\\n",
       "0  0            0                   NaN          0               \n",
       "1  0            0                   NaN          0               \n",
       "\n",
       "   IsInterception  IsFumble  IsPenalty  IsTwoPointConversion  \\\n",
       "0  0               0         0          0                      \n",
       "1  0               0         0          0                      \n",
       "\n",
       "   IsTwoPointConversionSuccessful RushDirection  YardLineFixed  \\\n",
       "0  0                               NaN           15              \n",
       "1  0                               NaN           33              \n",
       "\n",
       "  YardLineDirection  IsPenaltyAccepted PenaltyTeam  IsNoPlay PenaltyType  \\\n",
       "0  OPP               0                  NaN         0         NaN          \n",
       "1  OPP               0                  NaN         0         NaN          \n",
       "\n",
       "   PenaltyYards  \n",
       "0  0             \n",
       "1  0             "
      ]
     },
     "execution_count": 3,
     "metadata": {},
     "output_type": "execute_result"
    }
   ],
   "source": [
    "pd.set_option('display.max_rows', None)\n",
    "pd.set_option('display.max_columns', None)\n",
    "pd.set_option('display.max_colwidth', -1)\n",
    "data = pd.read_csv(csv)\n",
    "data.head(2)"
   ]
  },
  {
   "cell_type": "code",
   "execution_count": 4,
   "metadata": {},
   "outputs": [
    {
     "data": {
      "text/plain": [
       "['GameId',\n",
       " 'GameDate',\n",
       " 'Quarter',\n",
       " 'Minute',\n",
       " 'Second',\n",
       " 'OffenseTeam',\n",
       " 'DefenseTeam',\n",
       " 'Down',\n",
       " 'ToGo',\n",
       " 'YardLine',\n",
       " 'Unnamed: 10',\n",
       " 'SeriesFirstDown',\n",
       " 'Unnamed: 12',\n",
       " 'NextScore',\n",
       " 'Description',\n",
       " 'TeamWin',\n",
       " 'Unnamed: 16',\n",
       " 'Unnamed: 17',\n",
       " 'SeasonYear',\n",
       " 'Yards',\n",
       " 'Formation',\n",
       " 'PlayType',\n",
       " 'IsRush',\n",
       " 'IsPass',\n",
       " 'IsIncomplete',\n",
       " 'IsTouchdown',\n",
       " 'PassType',\n",
       " 'IsSack',\n",
       " 'IsChallenge',\n",
       " 'IsChallengeReversed',\n",
       " 'Challenger',\n",
       " 'IsMeasurement',\n",
       " 'IsInterception',\n",
       " 'IsFumble',\n",
       " 'IsPenalty',\n",
       " 'IsTwoPointConversion',\n",
       " 'IsTwoPointConversionSuccessful',\n",
       " 'RushDirection',\n",
       " 'YardLineFixed',\n",
       " 'YardLineDirection',\n",
       " 'IsPenaltyAccepted',\n",
       " 'PenaltyTeam',\n",
       " 'IsNoPlay',\n",
       " 'PenaltyType',\n",
       " 'PenaltyYards']"
      ]
     },
     "execution_count": 4,
     "metadata": {},
     "output_type": "execute_result"
    }
   ],
   "source": [
    "list(data.columns)"
   ]
  },
  {
   "cell_type": "code",
   "execution_count": 5,
   "metadata": {},
   "outputs": [
    {
     "data": {
      "text/plain": [
       "array([nan, 'DEEP LEFT', 'SHORT MIDDLE', 'SHORT LEFT', 'DEEP RIGHT',\n",
       "       'SHORT RIGHT', 'DEEP MIDDLE', 'MIDDLE. PENALTY', 'LEFT TO',\n",
       "       'BACK TO', 'MIDDLE TO', 'YARDS &'], dtype=object)"
      ]
     },
     "execution_count": 5,
     "metadata": {},
     "output_type": "execute_result"
    }
   ],
   "source": [
    "data['PassType'].unique()"
   ]
  },
  {
   "cell_type": "code",
   "execution_count": 6,
   "metadata": {},
   "outputs": [
    {
     "data": {
      "text/plain": [
       "array([nan, 'LEFT TACKLE', 'CENTER', 'RIGHT END', 'RIGHT TACKLE',\n",
       "       'LEFT END', 'LEFT GUARD', 'RIGHT GUARD'], dtype=object)"
      ]
     },
     "execution_count": 6,
     "metadata": {},
     "output_type": "execute_result"
    }
   ],
   "source": [
    "data['RushDirection'].unique()"
   ]
  },
  {
   "cell_type": "code",
   "execution_count": 7,
   "metadata": {},
   "outputs": [
    {
     "data": {
      "text/plain": [
       "28172    (11:16) (SHOTGUN) 11-C.WENTZ PASS INCOMPLETE MIDDLE TO 13-N.AGHOLOR (92-B.URBAN).\n",
       "Name: Description, dtype: object"
      ]
     },
     "execution_count": 7,
     "metadata": {},
     "output_type": "execute_result"
    }
   ],
   "source": [
    "data[data['PassType']=='MIDDLE TO']['Description']"
   ]
  },
  {
   "cell_type": "code",
   "execution_count": 8,
   "metadata": {},
   "outputs": [
    {
     "data": {
      "text/plain": [
       "8830    (2:36) (SHOTGUN) 11-C.WENTZ PASS INCOMPLETE LEFT TO 19-J.ARCEGA-WHITESIDE (92-K.STRONG).\n",
       "Name: Description, dtype: object"
      ]
     },
     "execution_count": 8,
     "metadata": {},
     "output_type": "execute_result"
    }
   ],
   "source": [
    "\n",
    "data[data['PassType']=='LEFT TO']['Description']"
   ]
  },
  {
   "cell_type": "code",
   "execution_count": 9,
   "metadata": {},
   "outputs": [
    {
     "data": {
      "text/plain": [
       "15034    (4:20) (PUNT FORMATION) 6-B.KERN PUNTS 49 YARDS TO JAX 33, CENTER-48-B.BRINKLEY. 12-D.WESTBROOK TO JAX 29 FOR -4 YARDS. PASS BACK TO 84-K.COLE TO JAX 29 FOR NO GAIN (37-A.HOOKER).\n",
       "Name: Description, dtype: object"
      ]
     },
     "execution_count": 9,
     "metadata": {},
     "output_type": "execute_result"
    }
   ],
   "source": [
    "data[data['PassType']=='BACK TO']['Description']"
   ]
  },
  {
   "cell_type": "code",
   "execution_count": 10,
   "metadata": {},
   "outputs": [],
   "source": [
    "data = data[(data['PassType'] != 'MIDDLE. PENALTY') &\n",
    "     (data['PassType'] != 'LEFT TO') &\n",
    "     (data['PassType'] != 'BACK TO') &\n",
    "     (data['PassType'] != 'MIDDLE TO') &\n",
    "     (data['PassType'] != 'YARDS &')\n",
    "    ]"
   ]
  },
  {
   "cell_type": "code",
   "execution_count": 11,
   "metadata": {},
   "outputs": [],
   "source": [
    "## Calculated Column for Run/Pass play types\n",
    "data = data.assign(PlayLoc=np.where(data['PassType'].isnull(), data['RushDirection'], data['PassType']))\n"
   ]
  },
  {
   "cell_type": "code",
   "execution_count": 12,
   "metadata": {},
   "outputs": [
    {
     "data": {
      "text/html": [
       "<div>\n",
       "<style scoped>\n",
       "    .dataframe tbody tr th:only-of-type {\n",
       "        vertical-align: middle;\n",
       "    }\n",
       "\n",
       "    .dataframe tbody tr th {\n",
       "        vertical-align: top;\n",
       "    }\n",
       "\n",
       "    .dataframe thead th {\n",
       "        text-align: right;\n",
       "    }\n",
       "</style>\n",
       "<table border=\"1\" class=\"dataframe\">\n",
       "  <thead>\n",
       "    <tr style=\"text-align: right;\">\n",
       "      <th></th>\n",
       "      <th>PlayType</th>\n",
       "      <th>PassType</th>\n",
       "      <th>RushDirection</th>\n",
       "      <th>PlayLoc</th>\n",
       "    </tr>\n",
       "  </thead>\n",
       "  <tbody>\n",
       "    <tr>\n",
       "      <th>0</th>\n",
       "      <td>EXTRA POINT</td>\n",
       "      <td>NaN</td>\n",
       "      <td>NaN</td>\n",
       "      <td>NaN</td>\n",
       "    </tr>\n",
       "    <tr>\n",
       "      <th>1</th>\n",
       "      <td>PASS</td>\n",
       "      <td>DEEP LEFT</td>\n",
       "      <td>NaN</td>\n",
       "      <td>DEEP LEFT</td>\n",
       "    </tr>\n",
       "    <tr>\n",
       "      <th>2</th>\n",
       "      <td>NO PLAY</td>\n",
       "      <td>NaN</td>\n",
       "      <td>NaN</td>\n",
       "      <td>NaN</td>\n",
       "    </tr>\n",
       "    <tr>\n",
       "      <th>3</th>\n",
       "      <td>SCRAMBLE</td>\n",
       "      <td>NaN</td>\n",
       "      <td>NaN</td>\n",
       "      <td>NaN</td>\n",
       "    </tr>\n",
       "    <tr>\n",
       "      <th>4</th>\n",
       "      <td>RUSH</td>\n",
       "      <td>NaN</td>\n",
       "      <td>LEFT TACKLE</td>\n",
       "      <td>LEFT TACKLE</td>\n",
       "    </tr>\n",
       "    <tr>\n",
       "      <th>5</th>\n",
       "      <td>EXTRA POINT</td>\n",
       "      <td>NaN</td>\n",
       "      <td>NaN</td>\n",
       "      <td>NaN</td>\n",
       "    </tr>\n",
       "    <tr>\n",
       "      <th>6</th>\n",
       "      <td>PASS</td>\n",
       "      <td>SHORT MIDDLE</td>\n",
       "      <td>NaN</td>\n",
       "      <td>SHORT MIDDLE</td>\n",
       "    </tr>\n",
       "    <tr>\n",
       "      <th>7</th>\n",
       "      <td>PASS</td>\n",
       "      <td>SHORT LEFT</td>\n",
       "      <td>NaN</td>\n",
       "      <td>SHORT LEFT</td>\n",
       "    </tr>\n",
       "    <tr>\n",
       "      <th>8</th>\n",
       "      <td>RUSH</td>\n",
       "      <td>NaN</td>\n",
       "      <td>CENTER</td>\n",
       "      <td>CENTER</td>\n",
       "    </tr>\n",
       "    <tr>\n",
       "      <th>9</th>\n",
       "      <td>PASS</td>\n",
       "      <td>SHORT MIDDLE</td>\n",
       "      <td>NaN</td>\n",
       "      <td>SHORT MIDDLE</td>\n",
       "    </tr>\n",
       "  </tbody>\n",
       "</table>\n",
       "</div>"
      ],
      "text/plain": [
       "      PlayType      PassType RushDirection       PlayLoc\n",
       "0  EXTRA POINT  NaN           NaN           NaN         \n",
       "1  PASS         DEEP LEFT     NaN           DEEP LEFT   \n",
       "2  NO PLAY      NaN           NaN           NaN         \n",
       "3  SCRAMBLE     NaN           NaN           NaN         \n",
       "4  RUSH         NaN           LEFT TACKLE   LEFT TACKLE \n",
       "5  EXTRA POINT  NaN           NaN           NaN         \n",
       "6  PASS         SHORT MIDDLE  NaN           SHORT MIDDLE\n",
       "7  PASS         SHORT LEFT    NaN           SHORT LEFT  \n",
       "8  RUSH         NaN           CENTER        CENTER      \n",
       "9  PASS         SHORT MIDDLE  NaN           SHORT MIDDLE"
      ]
     },
     "execution_count": 12,
     "metadata": {},
     "output_type": "execute_result"
    }
   ],
   "source": [
    "data[['PlayType','PassType','RushDirection','PlayLoc']].head(10)"
   ]
  },
  {
   "cell_type": "markdown",
   "metadata": {},
   "source": [
    "NFL has become more of a passing league, so it's not a surprise that short passes are the most common plays."
   ]
  },
  {
   "cell_type": "code",
   "execution_count": 13,
   "metadata": {},
   "outputs": [
    {
     "data": {
      "image/png": "[encoded data removed]",
      "text/plain": [
       "<matplotlib.figure.Figure at 0x11f7e91d0>"
      ]
     },
     "metadata": {},
     "output_type": "display_data"
    }
   ],
   "source": [
    "sns.countplot(data['PlayLoc'],order = data['PlayLoc'].value_counts().index)\n",
    "plt.title(\"2019 Play Type Frequencies\")\n",
    "plt.xticks(rotation=45, ha='right')\n",
    "plt.show()"
   ]
  },
  {
   "cell_type": "code",
   "execution_count": 14,
   "metadata": {},
   "outputs": [
    {
     "data": {
      "image/png": "[encoded data removed]",
      "text/plain": [
       "<matplotlib.figure.Figure at 0x1222160b8>"
      ]
     },
     "metadata": {},
     "output_type": "display_data"
    }
   ],
   "source": [
    "rp = data[(data['PlayType'] == 'RUSH') | (data['PlayType'] == 'PASS')]\n",
    "sns.countplot(rp['PlayType'])\n",
    "plt.title(\"2019 Pass vs. Run\")\n",
    "plt.show()"
   ]
  },
  {
   "cell_type": "code",
   "execution_count": 15,
   "metadata": {},
   "outputs": [
    {
     "name": "stdout",
     "output_type": "stream",
     "text": [
      "[2 1 3 4 0]\n"
     ]
    }
   ],
   "source": [
    "print(rp['Down'].unique())\n",
    "## remove down 0, which is basically extra points, etc.\n",
    "rp = rp[rp['Down'] != 0]"
   ]
  },
  {
   "cell_type": "markdown",
   "metadata": {},
   "source": [
    "1st down seems to be evenly distributed between Pass/Rush. 2nd down becomes more favorable towards the pass. Third down is even more favorable."
   ]
  },
  {
   "cell_type": "code",
   "execution_count": 16,
   "metadata": {},
   "outputs": [
    {
     "data": {
      "image/png": "[encoded data removed]",
      "text/plain": [
       "<matplotlib.figure.Figure at 0x122216be0>"
      ]
     },
     "metadata": {},
     "output_type": "display_data"
    }
   ],
   "source": [
    "rp.groupby(['Down', 'PlayType']).size().unstack().plot(kind='bar', stacked=True)\n",
    "plt.title('Play Type Per Down')\n",
    "plt.xticks(rotation=45, ha='right')\n",
    "plt.show()"
   ]
  },
  {
   "cell_type": "code",
   "execution_count": 17,
   "metadata": {},
   "outputs": [
    {
     "data": {
      "image/png": "[encoded data removed]",
      "text/plain": [
       "<matplotlib.figure.Figure at 0x11efd9978>"
      ]
     },
     "metadata": {},
     "output_type": "display_data"
    }
   ],
   "source": [
    "rp.groupby(['OffenseTeam', 'PlayType']).size().unstack().plot(kind='bar', stacked=True, figsize=(20,10))\n",
    "plt.title(\"NFL Club Play Distribution\")\n",
    "plt.xticks(rotation=45, ha='right')\n",
    "plt.show()"
   ]
  },
  {
   "cell_type": "code",
   "execution_count": 18,
   "metadata": {},
   "outputs": [
    {
     "data": {
      "image/png": "[encoded data removed]",
      "text/plain": [
       "<matplotlib.figure.Figure at 0x11fe23278>"
      ]
     },
     "metadata": {},
     "output_type": "display_data"
    }
   ],
   "source": [
    "rp.groupby(['OffenseTeam', 'PlayType']).size().unstack().plot(kind='bar',figsize=(20,10))\n",
    "plt.title(\"Play Type by Team\")\n",
    "plt.show()"
   ]
  },
  {
   "cell_type": "code",
   "execution_count": null,
   "metadata": {},
   "outputs": [],
   "source": []
  }
 ],
 "metadata": {
  "kernelspec": {
   "display_name": "Python 3",
   "language": "python",
   "name": "python3"
  },
  "language_info": {
   "codemirror_mode": {
    "name": "ipython",
    "version": 3
   },
   "file_extension": ".py",
   "mimetype": "text/x-python",
   "name": "python",
   "nbconvert_exporter": "python",
   "pygments_lexer": "ipython3",
   "version": "3.6.4"
  }
 },
 "nbformat": 4,
 "nbformat_minor": 2
}
