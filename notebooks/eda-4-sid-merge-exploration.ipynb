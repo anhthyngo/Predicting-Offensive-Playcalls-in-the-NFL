{
 "cells": [
  {
   "cell_type": "code",
   "execution_count": 1,
   "metadata": {},
   "outputs": [],
   "source": [
    "import pandas as pd"
   ]
  },
  {
   "cell_type": "code",
   "execution_count": 2,
   "metadata": {},
   "outputs": [],
   "source": [
    "df = pd.read_csv('../data/pbp-2019.csv')\n",
    "weather = pd.read_csv('../data/weather.csv')"
   ]
  },
  {
   "cell_type": "code",
   "execution_count": 5,
   "metadata": {},
   "outputs": [
    {
     "data": {
      "text/html": [
       "<div>\n",
       "<style scoped>\n",
       "    .dataframe tbody tr th:only-of-type {\n",
       "        vertical-align: middle;\n",
       "    }\n",
       "\n",
       "    .dataframe tbody tr th {\n",
       "        vertical-align: top;\n",
       "    }\n",
       "\n",
       "    .dataframe thead th {\n",
       "        text-align: right;\n",
       "    }\n",
       "</style>\n",
       "<table border=\"1\" class=\"dataframe\">\n",
       "  <thead>\n",
       "    <tr style=\"text-align: right;\">\n",
       "      <th></th>\n",
       "      <th>id</th>\n",
       "      <th>home_team</th>\n",
       "      <th>home_score</th>\n",
       "      <th>away_team</th>\n",
       "      <th>away_score</th>\n",
       "      <th>temperature</th>\n",
       "      <th>wind_chill</th>\n",
       "      <th>humidity</th>\n",
       "      <th>wind_mph</th>\n",
       "      <th>weather</th>\n",
       "      <th>date</th>\n",
       "    </tr>\n",
       "  </thead>\n",
       "  <tbody>\n",
       "    <tr>\n",
       "      <th>11187</th>\n",
       "      <td>201312290nwe</td>\n",
       "      <td>New England Patriots</td>\n",
       "      <td>34</td>\n",
       "      <td>Buffalo Bills</td>\n",
       "      <td>20</td>\n",
       "      <td>39</td>\n",
       "      <td>NaN</td>\n",
       "      <td>100%</td>\n",
       "      <td>8.0</td>\n",
       "      <td>39 degrees- relative humidity 100%- wind 8 mph</td>\n",
       "      <td>12/29/2013</td>\n",
       "    </tr>\n",
       "    <tr>\n",
       "      <th>11188</th>\n",
       "      <td>201312290atl</td>\n",
       "      <td>Atlanta Falcons</td>\n",
       "      <td>20</td>\n",
       "      <td>Carolina Panthers</td>\n",
       "      <td>21</td>\n",
       "      <td>0</td>\n",
       "      <td>0.0</td>\n",
       "      <td>NaN</td>\n",
       "      <td>NaN</td>\n",
       "      <td>0 degrees- no wind- wind chill 0</td>\n",
       "      <td>12/29/2013</td>\n",
       "    </tr>\n",
       "    <tr>\n",
       "      <th>11189</th>\n",
       "      <td>201312290pit</td>\n",
       "      <td>Pittsburgh Steelers</td>\n",
       "      <td>20</td>\n",
       "      <td>Cleveland Browns</td>\n",
       "      <td>7</td>\n",
       "      <td>40</td>\n",
       "      <td>NaN</td>\n",
       "      <td>93%</td>\n",
       "      <td>5.0</td>\n",
       "      <td>40 degrees- relative humidity 93%- wind 5 mph</td>\n",
       "      <td>12/29/2013</td>\n",
       "    </tr>\n",
       "    <tr>\n",
       "      <th>11190</th>\n",
       "      <td>201312290rai</td>\n",
       "      <td>Oakland Raiders</td>\n",
       "      <td>14</td>\n",
       "      <td>Denver Broncos</td>\n",
       "      <td>34</td>\n",
       "      <td>70</td>\n",
       "      <td>0.0</td>\n",
       "      <td>16%</td>\n",
       "      <td>8.0</td>\n",
       "      <td>70 degrees- relative humidity 16%- wind 8 mph-...</td>\n",
       "      <td>12/29/2013</td>\n",
       "    </tr>\n",
       "    <tr>\n",
       "      <th>11191</th>\n",
       "      <td>201312290mia</td>\n",
       "      <td>Miami Dolphins</td>\n",
       "      <td>7</td>\n",
       "      <td>New York Jets</td>\n",
       "      <td>20</td>\n",
       "      <td>79</td>\n",
       "      <td>0.0</td>\n",
       "      <td>84%</td>\n",
       "      <td>12.0</td>\n",
       "      <td>79 degrees- relative humidity 84%- wind 12 mph...</td>\n",
       "      <td>12/29/2013</td>\n",
       "    </tr>\n",
       "  </tbody>\n",
       "</table>\n",
       "</div>"
      ],
      "text/plain": [
       "                 id             home_team  home_score          away_team  \\\n",
       "11187  201312290nwe  New England Patriots          34      Buffalo Bills   \n",
       "11188  201312290atl       Atlanta Falcons          20  Carolina Panthers   \n",
       "11189  201312290pit   Pittsburgh Steelers          20   Cleveland Browns   \n",
       "11190  201312290rai       Oakland Raiders          14     Denver Broncos   \n",
       "11191  201312290mia        Miami Dolphins           7      New York Jets   \n",
       "\n",
       "       away_score  temperature  wind_chill humidity  wind_mph  \\\n",
       "11187          20           39         NaN     100%       8.0   \n",
       "11188          21            0         0.0      NaN       NaN   \n",
       "11189           7           40         NaN      93%       5.0   \n",
       "11190          34           70         0.0      16%       8.0   \n",
       "11191          20           79         0.0      84%      12.0   \n",
       "\n",
       "                                                 weather        date  \n",
       "11187     39 degrees- relative humidity 100%- wind 8 mph  12/29/2013  \n",
       "11188                   0 degrees- no wind- wind chill 0  12/29/2013  \n",
       "11189      40 degrees- relative humidity 93%- wind 5 mph  12/29/2013  \n",
       "11190  70 degrees- relative humidity 16%- wind 8 mph-...  12/29/2013  \n",
       "11191  79 degrees- relative humidity 84%- wind 12 mph...  12/29/2013  "
      ]
     },
     "execution_count": 5,
     "metadata": {},
     "output_type": "execute_result"
    }
   ],
   "source": [
    "weather.tail()"
   ]
  },
  {
   "cell_type": "code",
   "execution_count": 6,
   "metadata": {},
   "outputs": [
    {
     "data": {
      "text/plain": [
       "2013"
      ]
     },
     "execution_count": 6,
     "metadata": {},
     "output_type": "execute_result"
    }
   ],
   "source": [
    "pd.to_datetime(weather['date']).dt.year.max()"
   ]
  },
  {
   "cell_type": "code",
   "execution_count": 7,
   "metadata": {},
   "outputs": [
    {
     "data": {
      "text/plain": [
       "Index(['GameId', 'GameDate', 'Quarter', 'Minute', 'Second', 'OffenseTeam',\n",
       "       'DefenseTeam', 'Down', 'ToGo', 'YardLine', 'Unnamed: 10',\n",
       "       'SeriesFirstDown', 'Unnamed: 12', 'NextScore', 'Description', 'TeamWin',\n",
       "       'Unnamed: 16', 'Unnamed: 17', 'SeasonYear', 'Yards', 'Formation',\n",
       "       'PlayType', 'IsRush', 'IsPass', 'IsIncomplete', 'IsTouchdown',\n",
       "       'PassType', 'IsSack', 'IsChallenge', 'IsChallengeReversed',\n",
       "       'Challenger', 'IsMeasurement', 'IsInterception', 'IsFumble',\n",
       "       'IsPenalty', 'IsTwoPointConversion', 'IsTwoPointConversionSuccessful',\n",
       "       'RushDirection', 'YardLineFixed', 'YardLineDirection',\n",
       "       'IsPenaltyAccepted', 'PenaltyTeam', 'IsNoPlay', 'PenaltyType',\n",
       "       'PenaltyYards'],\n",
       "      dtype='object')"
      ]
     },
     "execution_count": 7,
     "metadata": {},
     "output_type": "execute_result"
    }
   ],
   "source": [
    "df.columns"
   ]
  },
  {
   "cell_type": "code",
   "execution_count": null,
   "metadata": {},
   "outputs": [],
   "source": [
    "# weather data is only available up until 2013..."
   ]
  }
 ],
 "metadata": {
  "kernelspec": {
   "display_name": "Python 3",
   "language": "python",
   "name": "python3"
  },
  "language_info": {
   "codemirror_mode": {
    "name": "ipython",
    "version": 3
   },
   "file_extension": ".py",
   "mimetype": "text/x-python",
   "name": "python",
   "nbconvert_exporter": "python",
   "pygments_lexer": "ipython3",
   "version": "3.6.9"
  }
 },
 "nbformat": 4,
 "nbformat_minor": 2
}
